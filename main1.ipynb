{
 "cells": [
  {
   "cell_type": "code",
   "execution_count": 8,
   "metadata": {},
   "outputs": [],
   "source": [
    "import numpy as np\n",
    "import pandas as pd\n",
    "from scipy.fftpack import dct\n",
    "from sklearn.decomposition import PCA\n",
    "import pywt\n",
    "\n",
    "# Read the PMU data from a CSV file (replace 'pmu_data.csv' with your actual file path)\n",
    "data = pd.read_csv('test.csv', header=None, names=['Timestamp', 'Type', 'Variable', 'Value'])\n",
    "\n",
    "# Convert timestamp to a suitable format (if needed)\n",
    "data['Timestamp'] = pd.to_datetime(data['Timestamp'], unit='ns')\n"
   ]
  },
  {
   "cell_type": "code",
   "execution_count": 11,
   "metadata": {},
   "outputs": [],
   "source": [
    "\n",
    "# Pivot the data for better organization\n",
    "pivoted_data = data.pivot_table(index=['Timestamp', 'Type'], columns='Variable', values='Value')\n",
    "\n",
    "# Fill missing values if any (optional)\n",
    "pivoted_data = pivoted_data.fillna(0)\n",
    "\n",
    "# Define disturbance detection thresholds\n",
    "threshold_v = 0.9  # Voltage threshold\n",
    "threshold_f = 59.9  # Frequency threshold\n",
    "threshold_df_dt = 0.1  # Rate of change of frequency threshold\n",
    " \n",
    "##### Define the number of PCA components to retain\n",
    "num_pca_components = 5\n",
    "\n",
    "# Define DCT compression threshold\n",
    "dct_threshold = 0.1                 \n"
   ]
  },
  {
   "cell_type": "code",
   "execution_count": 12,
   "metadata": {},
   "outputs": [
    {
     "ename": "KeyError",
     "evalue": "'Voltage'",
     "output_type": "error",
     "traceback": [
      "\u001b[1;31m---------------------------------------------------------------------------\u001b[0m",
      "\u001b[1;31mKeyError\u001b[0m                                  Traceback (most recent call last)",
      "File \u001b[1;32m~\\AppData\\Local\\Packages\\PythonSoftwareFoundation.Python.3.11_qbz5n2kfra8p0\\LocalCache\\local-packages\\Python311\\site-packages\\pandas\\core\\indexes\\base.py:3790\u001b[0m, in \u001b[0;36mIndex.get_loc\u001b[1;34m(self, key)\u001b[0m\n\u001b[0;32m   3789\u001b[0m \u001b[39mtry\u001b[39;00m:\n\u001b[1;32m-> 3790\u001b[0m     \u001b[39mreturn\u001b[39;00m \u001b[39mself\u001b[39;49m\u001b[39m.\u001b[39;49m_engine\u001b[39m.\u001b[39;49mget_loc(casted_key)\n\u001b[0;32m   3791\u001b[0m \u001b[39mexcept\u001b[39;00m \u001b[39mKeyError\u001b[39;00m \u001b[39mas\u001b[39;00m err:\n",
      "File \u001b[1;32mindex.pyx:152\u001b[0m, in \u001b[0;36mpandas._libs.index.IndexEngine.get_loc\u001b[1;34m()\u001b[0m\n",
      "File \u001b[1;32mindex.pyx:181\u001b[0m, in \u001b[0;36mpandas._libs.index.IndexEngine.get_loc\u001b[1;34m()\u001b[0m\n",
      "File \u001b[1;32mpandas\\_libs\\hashtable_class_helper.pxi:7080\u001b[0m, in \u001b[0;36mpandas._libs.hashtable.PyObjectHashTable.get_item\u001b[1;34m()\u001b[0m\n",
      "File \u001b[1;32mpandas\\_libs\\hashtable_class_helper.pxi:7088\u001b[0m, in \u001b[0;36mpandas._libs.hashtable.PyObjectHashTable.get_item\u001b[1;34m()\u001b[0m\n",
      "\u001b[1;31mKeyError\u001b[0m: 'Voltage'",
      "\nThe above exception was the direct cause of the following exception:\n",
      "\u001b[1;31mKeyError\u001b[0m                                  Traceback (most recent call last)",
      "\u001b[1;32mc:\\Users\\asus\\Desktop\\BTP\\main2.ipynb Cell 3\u001b[0m line \u001b[0;36m1\n\u001b[0;32m     <a href='vscode-notebook-cell:/c%3A/Users/asus/Desktop/BTP/main2.ipynb#W2sZmlsZQ%3D%3D?line=12'>13</a>\u001b[0m     \u001b[39mreturn\u001b[39;00m disturbance_indices\n\u001b[0;32m     <a href='vscode-notebook-cell:/c%3A/Users/asus/Desktop/BTP/main2.ipynb#W2sZmlsZQ%3D%3D?line=14'>15</a>\u001b[0m \u001b[39m# Detect disturbances\u001b[39;00m\n\u001b[1;32m---> <a href='vscode-notebook-cell:/c%3A/Users/asus/Desktop/BTP/main2.ipynb#W2sZmlsZQ%3D%3D?line=15'>16</a>\u001b[0m disturbance_indices \u001b[39m=\u001b[39m detect_disturbance(pivoted_data, threshold_v, threshold_f, threshold_df_dt)\n",
      "\u001b[1;32mc:\\Users\\asus\\Desktop\\BTP\\main2.ipynb Cell 3\u001b[0m line \u001b[0;36m3\n\u001b[0;32m      <a href='vscode-notebook-cell:/c%3A/Users/asus/Desktop/BTP/main2.ipynb#W2sZmlsZQ%3D%3D?line=1'>2</a>\u001b[0m \u001b[39mdef\u001b[39;00m \u001b[39mdetect_disturbance\u001b[39m(data, threshold_v, threshold_f, threshold_df_dt):\n\u001b[1;32m----> <a href='vscode-notebook-cell:/c%3A/Users/asus/Desktop/BTP/main2.ipynb#W2sZmlsZQ%3D%3D?line=2'>3</a>\u001b[0m     voltage \u001b[39m=\u001b[39m data[\u001b[39m'\u001b[39;49m\u001b[39mVoltage\u001b[39;49m\u001b[39m'\u001b[39;49m]\n\u001b[0;32m      <a href='vscode-notebook-cell:/c%3A/Users/asus/Desktop/BTP/main2.ipynb#W2sZmlsZQ%3D%3D?line=3'>4</a>\u001b[0m     frequency \u001b[39m=\u001b[39m data[\u001b[39m'\u001b[39m\u001b[39mFrequency\u001b[39m\u001b[39m'\u001b[39m]\n\u001b[0;32m      <a href='vscode-notebook-cell:/c%3A/Users/asus/Desktop/BTP/main2.ipynb#W2sZmlsZQ%3D%3D?line=4'>5</a>\u001b[0m     df_dt \u001b[39m=\u001b[39m np\u001b[39m.\u001b[39mgradient(frequency)\n",
      "File \u001b[1;32m~\\AppData\\Local\\Packages\\PythonSoftwareFoundation.Python.3.11_qbz5n2kfra8p0\\LocalCache\\local-packages\\Python311\\site-packages\\pandas\\core\\frame.py:3896\u001b[0m, in \u001b[0;36mDataFrame.__getitem__\u001b[1;34m(self, key)\u001b[0m\n\u001b[0;32m   3894\u001b[0m \u001b[39mif\u001b[39;00m \u001b[39mself\u001b[39m\u001b[39m.\u001b[39mcolumns\u001b[39m.\u001b[39mnlevels \u001b[39m>\u001b[39m \u001b[39m1\u001b[39m:\n\u001b[0;32m   3895\u001b[0m     \u001b[39mreturn\u001b[39;00m \u001b[39mself\u001b[39m\u001b[39m.\u001b[39m_getitem_multilevel(key)\n\u001b[1;32m-> 3896\u001b[0m indexer \u001b[39m=\u001b[39m \u001b[39mself\u001b[39;49m\u001b[39m.\u001b[39;49mcolumns\u001b[39m.\u001b[39;49mget_loc(key)\n\u001b[0;32m   3897\u001b[0m \u001b[39mif\u001b[39;00m is_integer(indexer):\n\u001b[0;32m   3898\u001b[0m     indexer \u001b[39m=\u001b[39m [indexer]\n",
      "File \u001b[1;32m~\\AppData\\Local\\Packages\\PythonSoftwareFoundation.Python.3.11_qbz5n2kfra8p0\\LocalCache\\local-packages\\Python311\\site-packages\\pandas\\core\\indexes\\base.py:3797\u001b[0m, in \u001b[0;36mIndex.get_loc\u001b[1;34m(self, key)\u001b[0m\n\u001b[0;32m   3792\u001b[0m     \u001b[39mif\u001b[39;00m \u001b[39misinstance\u001b[39m(casted_key, \u001b[39mslice\u001b[39m) \u001b[39mor\u001b[39;00m (\n\u001b[0;32m   3793\u001b[0m         \u001b[39misinstance\u001b[39m(casted_key, abc\u001b[39m.\u001b[39mIterable)\n\u001b[0;32m   3794\u001b[0m         \u001b[39mand\u001b[39;00m \u001b[39many\u001b[39m(\u001b[39misinstance\u001b[39m(x, \u001b[39mslice\u001b[39m) \u001b[39mfor\u001b[39;00m x \u001b[39min\u001b[39;00m casted_key)\n\u001b[0;32m   3795\u001b[0m     ):\n\u001b[0;32m   3796\u001b[0m         \u001b[39mraise\u001b[39;00m InvalidIndexError(key)\n\u001b[1;32m-> 3797\u001b[0m     \u001b[39mraise\u001b[39;00m \u001b[39mKeyError\u001b[39;00m(key) \u001b[39mfrom\u001b[39;00m \u001b[39merr\u001b[39;00m\n\u001b[0;32m   3798\u001b[0m \u001b[39mexcept\u001b[39;00m \u001b[39mTypeError\u001b[39;00m:\n\u001b[0;32m   3799\u001b[0m     \u001b[39m# If we have a listlike key, _check_indexing_error will raise\u001b[39;00m\n\u001b[0;32m   3800\u001b[0m     \u001b[39m#  InvalidIndexError. Otherwise we fall through and re-raise\u001b[39;00m\n\u001b[0;32m   3801\u001b[0m     \u001b[39m#  the TypeError.\u001b[39;00m\n\u001b[0;32m   3802\u001b[0m     \u001b[39mself\u001b[39m\u001b[39m.\u001b[39m_check_indexing_error(key)\n",
      "\u001b[1;31mKeyError\u001b[0m: 'Voltage'"
     ]
    }
   ],
   "source": [
    "\n",
    "# Function to detect disturbances\n",
    "def detect_disturbance(data, threshold_v, threshold_f, threshold_df_dt):\n",
    "    voltage = data['Voltage']\n",
    "    frequency = data['Frequency']\n",
    "    df_dt = np.gradient(frequency)\n",
    "    \n",
    "    disturbance_indices = np.where(\n",
    "        (voltage >= threshold_v) |\n",
    "        (frequency < threshold_f) |\n",
    "        (df_dt > threshold_df_dt)\n",
    "    )[0]\n",
    "    \n",
    "    return disturbance_indices\n",
    "\n",
    "# Detect disturbances\n",
    "disturbance_indices = detect_disturbance(pivoted_data, threshold_v, threshold_f, threshold_df_dt)\n"
   ]
  },
  {
   "cell_type": "code",
   "execution_count": null,
   "metadata": {},
   "outputs": [],
   "source": [
    "\n",
    "# Determine the window length\n",
    "def determine_window_length(data, disturbance_indices):\n",
    "    # Use statistical analysis or other methods to determine the window length\n",
    "    # For simplicity, assume a fixed window length here\n",
    "    window_length = 10  # 10 seconds\n",
    "    return window_length\n",
    "\n",
    "if disturbance_indices.any():\n",
    "    window_length = determine_window_length(pivoted_data, disturbance_indices)\n",
    "else:\n",
    "    window_length = 10  # Default window length for normal conditions\n",
    "\n",
    "# Apply PCA\n",
    "def apply_pca(data, num_components):\n",
    "    pca = PCA(n_components=num_components)\n",
    "    pca_result = pca.fit_transform(data)\n",
    "    return pca_result"
   ]
  },
  {
   "cell_type": "code",
   "execution_count": null,
   "metadata": {},
   "outputs": [],
   "source": [
    "\n",
    "# Apply DCT compression\n",
    "def apply_dct_compression(data, threshold):\n",
    "    compressed_data = np.zeros_like(data)\n",
    "    for i in range(data.shape[1]):\n",
    "        signal = data[:, i]\n",
    "        dct_coefficients = dct(signal, type=2, norm='ortho')\n",
    "        significant_indices = np.where(np.abs(dct_coefficients) > threshold)[0]\n",
    "        compressed_signal = np.zeros_like(signal)\n",
    "        compressed_signal[significant_indices] = dct_coefficients[significant_indices]\n",
    "        compressed_data[:, i] = compressed_signal\n",
    "    return compressed_data\n",
    "\n",
    "# Apply PCA\n",
    "pca_result = apply_pca(pivoted_data.values, num_pca_components)\n",
    "\n",
    "# Apply DCT compression\n",
    "compressed_pmu_data = apply_dct_compression(pca_result, dct_threshold)\n",
    "\n",
    "# Your compressed PMU data is now in 'compressed_pmu_data'\n",
    "# You can further process or save it as needed\n"
   ]
  }
 ],
 "metadata": {
  "kernelspec": {
   "display_name": "Python 3",
   "language": "python",
   "name": "python3"
  },
  "language_info": {
   "codemirror_mode": {
    "name": "ipython",
    "version": 3
   },
   "file_extension": ".py",
   "mimetype": "text/x-python",
   "name": "python",
   "nbconvert_exporter": "python",
   "pygments_lexer": "ipython3",
   "version": "3.11.6"
  },
  "orig_nbformat": 4
 },
 "nbformat": 4,
 "nbformat_minor": 2
}
